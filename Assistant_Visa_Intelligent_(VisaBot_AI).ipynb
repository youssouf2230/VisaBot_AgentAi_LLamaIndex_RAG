{
  "nbformat": 4,
  "nbformat_minor": 0,
  "metadata": {
    "colab": {
      "provenance": [],
      "authorship_tag": "ABX9TyM1A63w3/Qtcy0WQVlpIjFz",
      "include_colab_link": true
    },
    "kernelspec": {
      "name": "python3",
      "display_name": "Python 3"
    },
    "language_info": {
      "name": "python"
    }
  },
  "cells": [
    {
      "cell_type": "markdown",
      "metadata": {
        "id": "view-in-github",
        "colab_type": "text"
      },
      "source": [
        "<a href=\"https://colab.research.google.com/github/youssouf2230/VisaBot_AgentAi_LLamaIndex_RAG/blob/main/Assistant_Visa_Intelligent_(VisaBot_AI).ipynb\" target=\"_parent\"><img src=\"https://colab.research.google.com/assets/colab-badge.svg\" alt=\"Open In Colab\"/></a>"
      ]
    },
    {
      "cell_type": "markdown",
      "source": [
        "**Assistant** *Visa Intelligent* (VisaBot AI)\n",
        "**Objectif** :\n",
        "\n",
        "Créer un assistant intelligent capable de répondre aux questions des utilisateurs sur les demandes de visa, en utilisant :\n",
        "\n",
        "RAG (pour interroger des documents PDF / pages web officielles)\n",
        "\n",
        "Agent AI (pour gérer des dialogues complexes)\n",
        "\n",
        "Tools personnalisés (comme un outil de vérification de documents ou de localisation d’ambassade)"
      ],
      "metadata": {
        "id": "JT5_VaNv2nsx"
      }
    },
    {
      "cell_type": "code",
      "source": [
        "# installation des bibliothèques\n",
        "!pip install --upgrade pip\n",
        "!pip install llama-index llama-index-llms-mistralai llama-index-embeddings-huggingface langchain sentence-transformers"
      ],
      "metadata": {
        "colab": {
          "base_uri": "https://localhost:8080/"
        },
        "collapsed": true,
        "id": "wYD_0kHP2g-o",
        "outputId": "f9fb0256-fe3c-451f-b997-a8a1c17d8fbe"
      },
      "execution_count": null,
      "outputs": [
        {
          "output_type": "stream",
          "name": "stdout",
          "text": [
            "Requirement already satisfied: pip in /usr/local/lib/python3.12/dist-packages (25.2)\n",
            "Requirement already satisfied: llama-index in /usr/local/lib/python3.12/dist-packages (0.14.5)\n",
            "Requirement already satisfied: llama-index-llms-mistralai in /usr/local/lib/python3.12/dist-packages (0.8.2)\n",
            "Requirement already satisfied: llama-index-embeddings-huggingface in /usr/local/lib/python3.12/dist-packages (0.6.1)\n",
            "Requirement already satisfied: langchain in /usr/local/lib/python3.12/dist-packages (0.3.27)\n",
            "Requirement already satisfied: sentence-transformers in /usr/local/lib/python3.12/dist-packages (5.1.1)\n",
            "Requirement already satisfied: llama-index-cli<0.6,>=0.5.0 in /usr/local/lib/python3.12/dist-packages (from llama-index) (0.5.3)\n",
            "Requirement already satisfied: llama-index-core<0.15.0,>=0.14.5 in /usr/local/lib/python3.12/dist-packages (from llama-index) (0.14.5)\n",
            "Requirement already satisfied: llama-index-embeddings-openai<0.6,>=0.5.0 in /usr/local/lib/python3.12/dist-packages (from llama-index) (0.5.1)\n",
            "Requirement already satisfied: llama-index-indices-managed-llama-cloud>=0.4.0 in /usr/local/lib/python3.12/dist-packages (from llama-index) (0.9.4)\n",
            "Requirement already satisfied: llama-index-llms-openai<0.7,>=0.6.0 in /usr/local/lib/python3.12/dist-packages (from llama-index) (0.6.5)\n",
            "Requirement already satisfied: llama-index-readers-file<0.6,>=0.5.0 in /usr/local/lib/python3.12/dist-packages (from llama-index) (0.5.4)\n",
            "Requirement already satisfied: llama-index-readers-llama-parse>=0.4.0 in /usr/local/lib/python3.12/dist-packages (from llama-index) (0.5.1)\n",
            "Requirement already satisfied: nltk>3.8.1 in /usr/local/lib/python3.12/dist-packages (from llama-index) (3.9.1)\n",
            "Requirement already satisfied: aiohttp<4,>=3.8.6 in /usr/local/lib/python3.12/dist-packages (from llama-index-core<0.15.0,>=0.14.5->llama-index) (3.13.0)\n",
            "Requirement already satisfied: aiosqlite in /usr/local/lib/python3.12/dist-packages (from llama-index-core<0.15.0,>=0.14.5->llama-index) (0.21.0)\n",
            "Requirement already satisfied: banks<3,>=2.2.0 in /usr/local/lib/python3.12/dist-packages (from llama-index-core<0.15.0,>=0.14.5->llama-index) (2.2.0)\n",
            "Requirement already satisfied: dataclasses-json in /usr/local/lib/python3.12/dist-packages (from llama-index-core<0.15.0,>=0.14.5->llama-index) (0.6.7)\n",
            "Requirement already satisfied: deprecated>=1.2.9.3 in /usr/local/lib/python3.12/dist-packages (from llama-index-core<0.15.0,>=0.14.5->llama-index) (1.2.18)\n",
            "Requirement already satisfied: dirtyjson<2,>=1.0.8 in /usr/local/lib/python3.12/dist-packages (from llama-index-core<0.15.0,>=0.14.5->llama-index) (1.0.8)\n",
            "Requirement already satisfied: filetype<2,>=1.2.0 in /usr/local/lib/python3.12/dist-packages (from llama-index-core<0.15.0,>=0.14.5->llama-index) (1.2.0)\n",
            "Requirement already satisfied: fsspec>=2023.5.0 in /usr/local/lib/python3.12/dist-packages (from llama-index-core<0.15.0,>=0.14.5->llama-index) (2025.3.0)\n",
            "Requirement already satisfied: httpx in /usr/local/lib/python3.12/dist-packages (from llama-index-core<0.15.0,>=0.14.5->llama-index) (0.28.1)\n",
            "Requirement already satisfied: llama-index-workflows<3,>=2 in /usr/local/lib/python3.12/dist-packages (from llama-index-core<0.15.0,>=0.14.5->llama-index) (2.8.1)\n",
            "Requirement already satisfied: nest-asyncio<2,>=1.5.8 in /usr/local/lib/python3.12/dist-packages (from llama-index-core<0.15.0,>=0.14.5->llama-index) (1.6.0)\n",
            "Requirement already satisfied: networkx>=3.0 in /usr/local/lib/python3.12/dist-packages (from llama-index-core<0.15.0,>=0.14.5->llama-index) (3.5)\n",
            "Requirement already satisfied: numpy in /usr/local/lib/python3.12/dist-packages (from llama-index-core<0.15.0,>=0.14.5->llama-index) (2.0.2)\n",
            "Requirement already satisfied: pillow>=9.0.0 in /usr/local/lib/python3.12/dist-packages (from llama-index-core<0.15.0,>=0.14.5->llama-index) (11.3.0)\n",
            "Requirement already satisfied: platformdirs in /usr/local/lib/python3.12/dist-packages (from llama-index-core<0.15.0,>=0.14.5->llama-index) (4.5.0)\n",
            "Requirement already satisfied: pydantic>=2.8.0 in /usr/local/lib/python3.12/dist-packages (from llama-index-core<0.15.0,>=0.14.5->llama-index) (2.11.10)\n",
            "Requirement already satisfied: pyyaml>=6.0.1 in /usr/local/lib/python3.12/dist-packages (from llama-index-core<0.15.0,>=0.14.5->llama-index) (6.0.3)\n",
            "Requirement already satisfied: requests>=2.31.0 in /usr/local/lib/python3.12/dist-packages (from llama-index-core<0.15.0,>=0.14.5->llama-index) (2.32.4)\n",
            "Requirement already satisfied: setuptools>=80.9.0 in /usr/local/lib/python3.12/dist-packages (from llama-index-core<0.15.0,>=0.14.5->llama-index) (80.9.0)\n",
            "Requirement already satisfied: sqlalchemy>=1.4.49 in /usr/local/lib/python3.12/dist-packages (from sqlalchemy[asyncio]>=1.4.49->llama-index-core<0.15.0,>=0.14.5->llama-index) (2.0.43)\n",
            "Requirement already satisfied: tenacity!=8.4.0,<10.0.0,>=8.2.0 in /usr/local/lib/python3.12/dist-packages (from llama-index-core<0.15.0,>=0.14.5->llama-index) (8.5.0)\n",
            "Requirement already satisfied: tiktoken>=0.7.0 in /usr/local/lib/python3.12/dist-packages (from llama-index-core<0.15.0,>=0.14.5->llama-index) (0.12.0)\n",
            "Requirement already satisfied: tqdm<5,>=4.66.1 in /usr/local/lib/python3.12/dist-packages (from llama-index-core<0.15.0,>=0.14.5->llama-index) (4.67.1)\n",
            "Requirement already satisfied: typing-extensions>=4.5.0 in /usr/local/lib/python3.12/dist-packages (from llama-index-core<0.15.0,>=0.14.5->llama-index) (4.15.0)\n",
            "Requirement already satisfied: typing-inspect>=0.8.0 in /usr/local/lib/python3.12/dist-packages (from llama-index-core<0.15.0,>=0.14.5->llama-index) (0.9.0)\n",
            "Requirement already satisfied: wrapt in /usr/local/lib/python3.12/dist-packages (from llama-index-core<0.15.0,>=0.14.5->llama-index) (1.17.3)\n",
            "Requirement already satisfied: aiohappyeyeballs>=2.5.0 in /usr/local/lib/python3.12/dist-packages (from aiohttp<4,>=3.8.6->llama-index-core<0.15.0,>=0.14.5->llama-index) (2.6.1)\n",
            "Requirement already satisfied: aiosignal>=1.4.0 in /usr/local/lib/python3.12/dist-packages (from aiohttp<4,>=3.8.6->llama-index-core<0.15.0,>=0.14.5->llama-index) (1.4.0)\n",
            "Requirement already satisfied: attrs>=17.3.0 in /usr/local/lib/python3.12/dist-packages (from aiohttp<4,>=3.8.6->llama-index-core<0.15.0,>=0.14.5->llama-index) (25.4.0)\n",
            "Requirement already satisfied: frozenlist>=1.1.1 in /usr/local/lib/python3.12/dist-packages (from aiohttp<4,>=3.8.6->llama-index-core<0.15.0,>=0.14.5->llama-index) (1.8.0)\n",
            "Requirement already satisfied: multidict<7.0,>=4.5 in /usr/local/lib/python3.12/dist-packages (from aiohttp<4,>=3.8.6->llama-index-core<0.15.0,>=0.14.5->llama-index) (6.7.0)\n",
            "Requirement already satisfied: propcache>=0.2.0 in /usr/local/lib/python3.12/dist-packages (from aiohttp<4,>=3.8.6->llama-index-core<0.15.0,>=0.14.5->llama-index) (0.3.2)\n",
            "Requirement already satisfied: yarl<2.0,>=1.17.0 in /usr/local/lib/python3.12/dist-packages (from aiohttp<4,>=3.8.6->llama-index-core<0.15.0,>=0.14.5->llama-index) (1.22.0)\n",
            "Requirement already satisfied: griffe in /usr/local/lib/python3.12/dist-packages (from banks<3,>=2.2.0->llama-index-core<0.15.0,>=0.14.5->llama-index) (1.14.0)\n",
            "Requirement already satisfied: jinja2 in /usr/local/lib/python3.12/dist-packages (from banks<3,>=2.2.0->llama-index-core<0.15.0,>=0.14.5->llama-index) (3.1.6)\n",
            "Requirement already satisfied: openai>=1.1.0 in /usr/local/lib/python3.12/dist-packages (from llama-index-embeddings-openai<0.6,>=0.5.0->llama-index) (1.109.1)\n",
            "Requirement already satisfied: beautifulsoup4<5,>=4.12.3 in /usr/local/lib/python3.12/dist-packages (from llama-index-readers-file<0.6,>=0.5.0->llama-index) (4.13.5)\n",
            "Requirement already satisfied: defusedxml>=0.7.1 in /usr/local/lib/python3.12/dist-packages (from llama-index-readers-file<0.6,>=0.5.0->llama-index) (0.7.1)\n",
            "Requirement already satisfied: pandas<2.3.0 in /usr/local/lib/python3.12/dist-packages (from llama-index-readers-file<0.6,>=0.5.0->llama-index) (2.2.2)\n",
            "Requirement already satisfied: pypdf<7,>=5.1.0 in /usr/local/lib/python3.12/dist-packages (from llama-index-readers-file<0.6,>=0.5.0->llama-index) (6.1.1)\n",
            "Requirement already satisfied: striprtf<0.0.27,>=0.0.26 in /usr/local/lib/python3.12/dist-packages (from llama-index-readers-file<0.6,>=0.5.0->llama-index) (0.0.26)\n",
            "Requirement already satisfied: soupsieve>1.2 in /usr/local/lib/python3.12/dist-packages (from beautifulsoup4<5,>=4.12.3->llama-index-readers-file<0.6,>=0.5.0->llama-index) (2.8)\n",
            "Requirement already satisfied: llama-index-instrumentation>=0.1.0 in /usr/local/lib/python3.12/dist-packages (from llama-index-workflows<3,>=2->llama-index-core<0.15.0,>=0.14.5->llama-index) (0.4.2)\n",
            "Requirement already satisfied: anyio<5,>=3.5.0 in /usr/local/lib/python3.12/dist-packages (from openai>=1.1.0->llama-index-embeddings-openai<0.6,>=0.5.0->llama-index) (4.11.0)\n",
            "Requirement already satisfied: distro<2,>=1.7.0 in /usr/local/lib/python3.12/dist-packages (from openai>=1.1.0->llama-index-embeddings-openai<0.6,>=0.5.0->llama-index) (1.9.0)\n",
            "Requirement already satisfied: jiter<1,>=0.4.0 in /usr/local/lib/python3.12/dist-packages (from openai>=1.1.0->llama-index-embeddings-openai<0.6,>=0.5.0->llama-index) (0.11.0)\n",
            "Requirement already satisfied: sniffio in /usr/local/lib/python3.12/dist-packages (from openai>=1.1.0->llama-index-embeddings-openai<0.6,>=0.5.0->llama-index) (1.3.1)\n",
            "Requirement already satisfied: idna>=2.8 in /usr/local/lib/python3.12/dist-packages (from anyio<5,>=3.5.0->openai>=1.1.0->llama-index-embeddings-openai<0.6,>=0.5.0->llama-index) (3.10)\n",
            "Requirement already satisfied: certifi in /usr/local/lib/python3.12/dist-packages (from httpx->llama-index-core<0.15.0,>=0.14.5->llama-index) (2025.10.5)\n",
            "Requirement already satisfied: httpcore==1.* in /usr/local/lib/python3.12/dist-packages (from httpx->llama-index-core<0.15.0,>=0.14.5->llama-index) (1.0.9)\n",
            "Requirement already satisfied: h11>=0.16 in /usr/local/lib/python3.12/dist-packages (from httpcore==1.*->httpx->llama-index-core<0.15.0,>=0.14.5->llama-index) (0.16.0)\n",
            "Requirement already satisfied: python-dateutil>=2.8.2 in /usr/local/lib/python3.12/dist-packages (from pandas<2.3.0->llama-index-readers-file<0.6,>=0.5.0->llama-index) (2.9.0.post0)\n",
            "Requirement already satisfied: pytz>=2020.1 in /usr/local/lib/python3.12/dist-packages (from pandas<2.3.0->llama-index-readers-file<0.6,>=0.5.0->llama-index) (2025.2)\n",
            "Requirement already satisfied: tzdata>=2022.7 in /usr/local/lib/python3.12/dist-packages (from pandas<2.3.0->llama-index-readers-file<0.6,>=0.5.0->llama-index) (2025.2)\n",
            "Requirement already satisfied: annotated-types>=0.6.0 in /usr/local/lib/python3.12/dist-packages (from pydantic>=2.8.0->llama-index-core<0.15.0,>=0.14.5->llama-index) (0.7.0)\n",
            "Requirement already satisfied: pydantic-core==2.33.2 in /usr/local/lib/python3.12/dist-packages (from pydantic>=2.8.0->llama-index-core<0.15.0,>=0.14.5->llama-index) (2.33.2)\n",
            "Requirement already satisfied: typing-inspection>=0.4.0 in /usr/local/lib/python3.12/dist-packages (from pydantic>=2.8.0->llama-index-core<0.15.0,>=0.14.5->llama-index) (0.4.2)\n",
            "Requirement already satisfied: mistralai>=1.8.2 in /usr/local/lib/python3.12/dist-packages (from llama-index-llms-mistralai) (1.9.11)\n",
            "Requirement already satisfied: huggingface-hub>=0.19.0 in /usr/local/lib/python3.12/dist-packages (from huggingface-hub[inference]>=0.19.0->llama-index-embeddings-huggingface) (0.35.3)\n",
            "Requirement already satisfied: langchain-core<1.0.0,>=0.3.72 in /usr/local/lib/python3.12/dist-packages (from langchain) (0.3.78)\n",
            "Requirement already satisfied: langchain-text-splitters<1.0.0,>=0.3.9 in /usr/local/lib/python3.12/dist-packages (from langchain) (0.3.11)\n",
            "Requirement already satisfied: langsmith>=0.1.17 in /usr/local/lib/python3.12/dist-packages (from langchain) (0.4.33)\n",
            "Requirement already satisfied: jsonpatch<2.0.0,>=1.33.0 in /usr/local/lib/python3.12/dist-packages (from langchain-core<1.0.0,>=0.3.72->langchain) (1.33)\n",
            "Requirement already satisfied: packaging<26.0.0,>=23.2.0 in /usr/local/lib/python3.12/dist-packages (from langchain-core<1.0.0,>=0.3.72->langchain) (25.0)\n",
            "Requirement already satisfied: jsonpointer>=1.9 in /usr/local/lib/python3.12/dist-packages (from jsonpatch<2.0.0,>=1.33.0->langchain-core<1.0.0,>=0.3.72->langchain) (3.0.0)\n",
            "Requirement already satisfied: orjson>=3.9.14 in /usr/local/lib/python3.12/dist-packages (from langsmith>=0.1.17->langchain) (3.11.3)\n",
            "Requirement already satisfied: requests-toolbelt>=1.0.0 in /usr/local/lib/python3.12/dist-packages (from langsmith>=0.1.17->langchain) (1.0.0)\n",
            "Requirement already satisfied: zstandard>=0.23.0 in /usr/local/lib/python3.12/dist-packages (from langsmith>=0.1.17->langchain) (0.25.0)\n",
            "Requirement already satisfied: charset_normalizer<4,>=2 in /usr/local/lib/python3.12/dist-packages (from requests>=2.31.0->llama-index-core<0.15.0,>=0.14.5->llama-index) (3.4.3)\n",
            "Requirement already satisfied: urllib3<3,>=1.21.1 in /usr/local/lib/python3.12/dist-packages (from requests>=2.31.0->llama-index-core<0.15.0,>=0.14.5->llama-index) (2.5.0)\n",
            "Requirement already satisfied: greenlet>=1 in /usr/local/lib/python3.12/dist-packages (from sqlalchemy>=1.4.49->sqlalchemy[asyncio]>=1.4.49->llama-index-core<0.15.0,>=0.14.5->llama-index) (3.2.4)\n",
            "Requirement already satisfied: transformers<5.0.0,>=4.41.0 in /usr/local/lib/python3.12/dist-packages (from sentence-transformers) (4.57.0)\n",
            "Requirement already satisfied: torch>=1.11.0 in /usr/local/lib/python3.12/dist-packages (from sentence-transformers) (2.8.0+cu126)\n",
            "Requirement already satisfied: scikit-learn in /usr/local/lib/python3.12/dist-packages (from sentence-transformers) (1.6.1)\n",
            "Requirement already satisfied: scipy in /usr/local/lib/python3.12/dist-packages (from sentence-transformers) (1.16.2)\n",
            "Requirement already satisfied: filelock in /usr/local/lib/python3.12/dist-packages (from transformers<5.0.0,>=4.41.0->sentence-transformers) (3.20.0)\n",
            "Requirement already satisfied: regex!=2019.12.17 in /usr/local/lib/python3.12/dist-packages (from transformers<5.0.0,>=4.41.0->sentence-transformers) (2024.11.6)\n",
            "Requirement already satisfied: tokenizers<=0.23.0,>=0.22.0 in /usr/local/lib/python3.12/dist-packages (from transformers<5.0.0,>=4.41.0->sentence-transformers) (0.22.1)\n",
            "Requirement already satisfied: safetensors>=0.4.3 in /usr/local/lib/python3.12/dist-packages (from transformers<5.0.0,>=4.41.0->sentence-transformers) (0.6.2)\n",
            "Requirement already satisfied: hf-xet<2.0.0,>=1.1.3 in /usr/local/lib/python3.12/dist-packages (from huggingface-hub>=0.19.0->huggingface-hub[inference]>=0.19.0->llama-index-embeddings-huggingface) (1.1.10)\n",
            "Requirement already satisfied: llama-cloud==0.1.35 in /usr/local/lib/python3.12/dist-packages (from llama-index-indices-managed-llama-cloud>=0.4.0->llama-index) (0.1.35)\n",
            "Requirement already satisfied: llama-parse>=0.5.0 in /usr/local/lib/python3.12/dist-packages (from llama-index-readers-llama-parse>=0.4.0->llama-index) (0.6.54)\n",
            "Requirement already satisfied: llama-cloud-services>=0.6.54 in /usr/local/lib/python3.12/dist-packages (from llama-parse>=0.5.0->llama-index-readers-llama-parse>=0.4.0->llama-index) (0.6.54)\n",
            "Requirement already satisfied: click<9,>=8.1.7 in /usr/local/lib/python3.12/dist-packages (from llama-cloud-services>=0.6.54->llama-parse>=0.5.0->llama-index-readers-llama-parse>=0.4.0->llama-index) (8.3.0)\n",
            "Requirement already satisfied: python-dotenv<2,>=1.0.1 in /usr/local/lib/python3.12/dist-packages (from llama-cloud-services>=0.6.54->llama-parse>=0.5.0->llama-index-readers-llama-parse>=0.4.0->llama-index) (1.1.1)\n",
            "Requirement already satisfied: eval-type-backport>=0.2.0 in /usr/local/lib/python3.12/dist-packages (from mistralai>=1.8.2->llama-index-llms-mistralai) (0.2.2)\n",
            "Requirement already satisfied: invoke<3.0.0,>=2.2.0 in /usr/local/lib/python3.12/dist-packages (from mistralai>=1.8.2->llama-index-llms-mistralai) (2.2.1)\n",
            "Requirement already satisfied: joblib in /usr/local/lib/python3.12/dist-packages (from nltk>3.8.1->llama-index) (1.5.2)\n",
            "Requirement already satisfied: six>=1.5 in /usr/local/lib/python3.12/dist-packages (from python-dateutil>=2.8.2->pandas<2.3.0->llama-index-readers-file<0.6,>=0.5.0->llama-index) (1.17.0)\n",
            "Requirement already satisfied: sympy>=1.13.3 in /usr/local/lib/python3.12/dist-packages (from torch>=1.11.0->sentence-transformers) (1.13.3)\n",
            "Requirement already satisfied: nvidia-cuda-nvrtc-cu12==12.6.77 in /usr/local/lib/python3.12/dist-packages (from torch>=1.11.0->sentence-transformers) (12.6.77)\n",
            "Requirement already satisfied: nvidia-cuda-runtime-cu12==12.6.77 in /usr/local/lib/python3.12/dist-packages (from torch>=1.11.0->sentence-transformers) (12.6.77)\n",
            "Requirement already satisfied: nvidia-cuda-cupti-cu12==12.6.80 in /usr/local/lib/python3.12/dist-packages (from torch>=1.11.0->sentence-transformers) (12.6.80)\n",
            "Requirement already satisfied: nvidia-cudnn-cu12==9.10.2.21 in /usr/local/lib/python3.12/dist-packages (from torch>=1.11.0->sentence-transformers) (9.10.2.21)\n",
            "Requirement already satisfied: nvidia-cublas-cu12==12.6.4.1 in /usr/local/lib/python3.12/dist-packages (from torch>=1.11.0->sentence-transformers) (12.6.4.1)\n",
            "Requirement already satisfied: nvidia-cufft-cu12==11.3.0.4 in /usr/local/lib/python3.12/dist-packages (from torch>=1.11.0->sentence-transformers) (11.3.0.4)\n",
            "Requirement already satisfied: nvidia-curand-cu12==10.3.7.77 in /usr/local/lib/python3.12/dist-packages (from torch>=1.11.0->sentence-transformers) (10.3.7.77)\n",
            "Requirement already satisfied: nvidia-cusolver-cu12==11.7.1.2 in /usr/local/lib/python3.12/dist-packages (from torch>=1.11.0->sentence-transformers) (11.7.1.2)\n",
            "Requirement already satisfied: nvidia-cusparse-cu12==12.5.4.2 in /usr/local/lib/python3.12/dist-packages (from torch>=1.11.0->sentence-transformers) (12.5.4.2)\n",
            "Requirement already satisfied: nvidia-cusparselt-cu12==0.7.1 in /usr/local/lib/python3.12/dist-packages (from torch>=1.11.0->sentence-transformers) (0.7.1)\n",
            "Requirement already satisfied: nvidia-nccl-cu12==2.27.3 in /usr/local/lib/python3.12/dist-packages (from torch>=1.11.0->sentence-transformers) (2.27.3)\n",
            "Requirement already satisfied: nvidia-nvtx-cu12==12.6.77 in /usr/local/lib/python3.12/dist-packages (from torch>=1.11.0->sentence-transformers) (12.6.77)\n",
            "Requirement already satisfied: nvidia-nvjitlink-cu12==12.6.85 in /usr/local/lib/python3.12/dist-packages (from torch>=1.11.0->sentence-transformers) (12.6.85)\n",
            "Requirement already satisfied: nvidia-cufile-cu12==1.11.1.6 in /usr/local/lib/python3.12/dist-packages (from torch>=1.11.0->sentence-transformers) (1.11.1.6)\n",
            "Requirement already satisfied: triton==3.4.0 in /usr/local/lib/python3.12/dist-packages (from torch>=1.11.0->sentence-transformers) (3.4.0)\n",
            "Requirement already satisfied: mpmath<1.4,>=1.1.0 in /usr/local/lib/python3.12/dist-packages (from sympy>=1.13.3->torch>=1.11.0->sentence-transformers) (1.3.0)\n",
            "Requirement already satisfied: mypy-extensions>=0.3.0 in /usr/local/lib/python3.12/dist-packages (from typing-inspect>=0.8.0->llama-index-core<0.15.0,>=0.14.5->llama-index) (1.1.0)\n",
            "Requirement already satisfied: marshmallow<4.0.0,>=3.18.0 in /usr/local/lib/python3.12/dist-packages (from dataclasses-json->llama-index-core<0.15.0,>=0.14.5->llama-index) (3.26.1)\n",
            "Requirement already satisfied: colorama>=0.4 in /usr/local/lib/python3.12/dist-packages (from griffe->banks<3,>=2.2.0->llama-index-core<0.15.0,>=0.14.5->llama-index) (0.4.6)\n",
            "Requirement already satisfied: MarkupSafe>=2.0 in /usr/local/lib/python3.12/dist-packages (from jinja2->banks<3,>=2.2.0->llama-index-core<0.15.0,>=0.14.5->llama-index) (3.0.3)\n",
            "Requirement already satisfied: threadpoolctl>=3.1.0 in /usr/local/lib/python3.12/dist-packages (from scikit-learn->sentence-transformers) (3.6.0)\n"
          ]
        }
      ]
    },
    {
      "cell_type": "markdown",
      "source": [
        "# réupère clé de mistral"
      ],
      "metadata": {
        "id": "7LAOFfvV4UJP"
      }
    },
    {
      "cell_type": "code",
      "source": [
        "from google.colab import userdata\n",
        "mistral_key_api=userdata.get('visaBot_key')"
      ],
      "metadata": {
        "id": "_-lft_Wm4ZE0"
      },
      "execution_count": null,
      "outputs": []
    },
    {
      "cell_type": "markdown",
      "source": [
        "1. **Données**"
      ],
      "metadata": {
        "id": "aUuyaSvX3jQW"
      }
    },
    {
      "cell_type": "code",
      "execution_count": null,
      "metadata": {
        "colab": {
          "base_uri": "https://localhost:8080/"
        },
        "id": "JKMXxxrw2GWC",
        "outputId": "e1720d3a-f2d3-4c47-969d-50f8fcea9a23"
      },
      "outputs": [
        {
          "output_type": "stream",
          "name": "stdout",
          "text": [
            "Téléchargé : visa_doc_1.pdf\n",
            "Mauvais contenu (pas un PDF) pour l’URL : https://ma.consulfrance.org/IMG/pdf/pieces_a_fournir_etudiants_majeur.pdf?2453/cc842d3a1bfe1380d73c6608ca350250691199fd\n",
            "\n",
            " 8 document(s) PDF valides chargés.\n",
            "Liste des documents justificatifs devant être produits par les demandeurs de visa de \n",
            "court séjour au Maroc  \n",
            " \n",
            "I. Documents à présenter par tous les demandeurs de visa  \n",
            "  \n",
            "1. Preuve du moyen de transport  \n",
            "- réservation d'un billet aller-retour (avion, autobus ou bateau), selon le cas.  \n",
            "2. Preuve d'hébergement  \n",
            "- réservation(s) d'hôtel, ou  \n",
            "- preuve que le demandeur de visa loue ou possède des biens immobiliers dans l’État \n",
            "membre de destination, ou  \n",
            "- confirmation de l’hébergement chez un\n"
          ]
        }
      ],
      "source": [
        "import requests\n",
        "import os\n",
        "from llama_index.readers.file import PDFReader\n",
        "\n",
        "# Liste des URLs\n",
        "urls = [\n",
        "    \"https://static.tlscontact.com/media/ma/cas/be/2019_08_liste_harmonisee_documents_a_soumettre_pour_un_visa_de_court_sejour.pdf\",\n",
        "    \"https://ma.consulfrance.org/IMG/pdf/pieces_a_fournir_etudiants_majeur.pdf?2453/cc842d3a1bfe1380d73c6608ca350250691199fd\",\n",
        "]\n",
        "\n",
        "# Dossier de sauvegarde\n",
        "save_dir = \"pdf_visa_docs\"\n",
        "os.makedirs(save_dir, exist_ok=True)\n",
        "\n",
        "file_paths = []\n",
        "for i, url in enumerate(urls):\n",
        "    response = requests.get(url)\n",
        "\n",
        "    #  Vérifie que le fichier est bien un PDF\n",
        "    content_type = response.headers.get(\"Content-Type\", \"\")\n",
        "    if \"application/pdf\" in content_type:\n",
        "        filename = f\"visa_doc_{i+1}.pdf\"\n",
        "        filepath = os.path.join(save_dir, filename)\n",
        "        with open(filepath, \"wb\") as f:\n",
        "            f.write(response.content)\n",
        "        file_paths.append(filepath)\n",
        "        print(f\"Téléchargé : {filename}\")\n",
        "    else:\n",
        "        print(f\"Mauvais contenu (pas un PDF) pour l’URL : {url}\")\n",
        "\n",
        "# Lire les fichiers valides\n",
        "loader = PDFReader()\n",
        "documents = []\n",
        "for path in file_paths:\n",
        "    docs = loader.load_data(file=path)\n",
        "    documents.extend(docs)\n",
        "\n",
        "# Affichage\n",
        "print(f\"\\n {len(documents)} document(s) PDF valides chargés.\")\n",
        "print(documents[0].text[:500])\n"
      ]
    },
    {
      "cell_type": "code",
      "source": [
        "!pip install playwright\n",
        "!playwright install"
      ],
      "metadata": {
        "colab": {
          "base_uri": "https://localhost:8080/"
        },
        "collapsed": true,
        "id": "xtLjOYo5ttZD",
        "outputId": "4be7135b-8ee4-458a-9f3f-c74533870293"
      },
      "execution_count": null,
      "outputs": [
        {
          "output_type": "stream",
          "name": "stdout",
          "text": [
            "Requirement already satisfied: playwright in /usr/local/lib/python3.12/dist-packages (1.55.0)\n",
            "Requirement already satisfied: pyee<14,>=13 in /usr/local/lib/python3.12/dist-packages (from playwright) (13.0.0)\n",
            "Requirement already satisfied: greenlet<4.0.0,>=3.1.1 in /usr/local/lib/python3.12/dist-packages (from playwright) (3.2.4)\n",
            "Requirement already satisfied: typing-extensions in /usr/local/lib/python3.12/dist-packages (from pyee<14,>=13->playwright) (4.15.0)\n",
            "Downloading Chromium 140.0.7339.16 (playwright build v1187)\u001b[2m from https://cdn.playwright.dev/dbazure/download/playwright/builds/chromium/1187/chromium-linux.zip\u001b[22m\n",
            "\u001b[1G173.7 MiB [] 0% 0.0s\u001b[0K\u001b[1G173.7 MiB [] 0% 4.7s\u001b[0K\u001b[1G173.7 MiB [] 0% 3.3s\u001b[0K\u001b[1G173.7 MiB [] 1% 2.9s\u001b[0K\u001b[1G173.7 MiB [] 2% 3.0s\u001b[0K\u001b[1G173.7 MiB [] 2% 2.7s\u001b[0K\u001b[1G173.7 MiB [] 3% 2.8s\u001b[0K\u001b[1G173.7 MiB [] 3% 2.7s\u001b[0K\u001b[1G173.7 MiB [] 4% 2.8s\u001b[0K\u001b[1G173.7 MiB [] 5% 2.7s\u001b[0K\u001b[1G173.7 MiB [] 5% 2.8s\u001b[0K\u001b[1G173.7 MiB [] 6% 2.8s\u001b[0K\u001b[1G173.7 MiB [] 7% 2.7s\u001b[0K\u001b[1G173.7 MiB [] 8% 2.6s\u001b[0K\u001b[1G173.7 MiB [] 9% 2.6s\u001b[0K\u001b[1G173.7 MiB [] 9% 2.7s\u001b[0K\u001b[1G173.7 MiB [] 10% 2.5s\u001b[0K\u001b[1G173.7 MiB [] 11% 2.4s\u001b[0K\u001b[1G173.7 MiB [] 12% 2.3s\u001b[0K\u001b[1G173.7 MiB [] 13% 2.3s\u001b[0K\u001b[1G173.7 MiB [] 14% 2.2s\u001b[0K\u001b[1G173.7 MiB [] 15% 2.2s\u001b[0K\u001b[1G173.7 MiB [] 16% 2.1s\u001b[0K\u001b[1G173.7 MiB [] 17% 2.0s\u001b[0K\u001b[1G173.7 MiB [] 18% 1.9s\u001b[0K\u001b[1G173.7 MiB [] 19% 1.9s\u001b[0K\u001b[1G173.7 MiB [] 20% 1.8s\u001b[0K\u001b[1G173.7 MiB [] 21% 1.8s\u001b[0K\u001b[1G173.7 MiB [] 22% 1.8s\u001b[0K\u001b[1G173.7 MiB [] 23% 1.7s\u001b[0K\u001b[1G173.7 MiB [] 24% 1.7s\u001b[0K\u001b[1G173.7 MiB [] 25% 1.7s\u001b[0K\u001b[1G173.7 MiB [] 26% 1.7s\u001b[0K\u001b[1G173.7 MiB [] 27% 1.7s\u001b[0K\u001b[1G173.7 MiB [] 28% 1.6s\u001b[0K\u001b[1G173.7 MiB [] 30% 1.6s\u001b[0K\u001b[1G173.7 MiB [] 31% 1.5s\u001b[0K\u001b[1G173.7 MiB [] 32% 1.5s\u001b[0K\u001b[1G173.7 MiB [] 33% 1.5s\u001b[0K\u001b[1G173.7 MiB [] 34% 1.4s\u001b[0K\u001b[1G173.7 MiB [] 35% 1.4s\u001b[0K\u001b[1G173.7 MiB [] 36% 1.3s\u001b[0K\u001b[1G173.7 MiB [] 37% 1.3s\u001b[0K\u001b[1G173.7 MiB [] 39% 1.2s\u001b[0K\u001b[1G173.7 MiB [] 40% 1.2s\u001b[0K\u001b[1G173.7 MiB [] 41% 1.2s\u001b[0K\u001b[1G173.7 MiB [] 42% 1.1s\u001b[0K\u001b[1G173.7 MiB [] 43% 1.1s\u001b[0K\u001b[1G173.7 MiB [] 44% 1.1s\u001b[0K\u001b[1G173.7 MiB [] 46% 1.0s\u001b[0K\u001b[1G173.7 MiB [] 47% 1.0s\u001b[0K\u001b[1G173.7 MiB [] 49% 1.0s\u001b[0K\u001b[1G173.7 MiB [] 50% 0.9s\u001b[0K\u001b[1G173.7 MiB [] 51% 0.9s\u001b[0K\u001b[1G173.7 MiB [] 52% 0.9s\u001b[0K\u001b[1G173.7 MiB [] 54% 0.8s\u001b[0K\u001b[1G173.7 MiB [] 55% 0.8s\u001b[0K\u001b[1G173.7 MiB [] 56% 0.8s\u001b[0K\u001b[1G173.7 MiB [] 57% 0.8s\u001b[0K\u001b[1G173.7 MiB [] 58% 0.8s\u001b[0K\u001b[1G173.7 MiB [] 58% 0.7s\u001b[0K\u001b[1G173.7 MiB [] 59% 0.7s\u001b[0K\u001b[1G173.7 MiB [] 60% 0.7s\u001b[0K\u001b[1G173.7 MiB [] 61% 0.7s\u001b[0K\u001b[1G173.7 MiB [] 62% 0.7s\u001b[0K\u001b[1G173.7 MiB [] 63% 0.7s\u001b[0K\u001b[1G173.7 MiB [] 64% 0.7s\u001b[0K\u001b[1G173.7 MiB [] 65% 0.6s\u001b[0K\u001b[1G173.7 MiB [] 66% 0.6s\u001b[0K\u001b[1G173.7 MiB [] 67% 0.6s\u001b[0K\u001b[1G173.7 MiB [] 68% 0.6s\u001b[0K\u001b[1G173.7 MiB [] 69% 0.6s\u001b[0K\u001b[1G173.7 MiB [] 70% 0.6s\u001b[0K\u001b[1G173.7 MiB [] 70% 0.5s\u001b[0K\u001b[1G173.7 MiB [] 71% 0.5s\u001b[0K\u001b[1G173.7 MiB [] 72% 0.5s\u001b[0K\u001b[1G173.7 MiB [] 73% 0.5s\u001b[0K\u001b[1G173.7 MiB [] 74% 0.5s\u001b[0K\u001b[1G173.7 MiB [] 76% 0.4s\u001b[0K\u001b[1G173.7 MiB [] 77% 0.4s\u001b[0K\u001b[1G173.7 MiB [] 78% 0.4s\u001b[0K\u001b[1G173.7 MiB [] 79% 0.4s\u001b[0K\u001b[1G173.7 MiB [] 80% 0.4s\u001b[0K\u001b[1G173.7 MiB [] 81% 0.3s\u001b[0K\u001b[1G173.7 MiB [] 82% 0.3s\u001b[0K\u001b[1G173.7 MiB [] 84% 0.3s\u001b[0K\u001b[1G173.7 MiB [] 85% 0.3s\u001b[0K\u001b[1G173.7 MiB [] 86% 0.3s\u001b[0K\u001b[1G173.7 MiB [] 87% 0.2s\u001b[0K\u001b[1G173.7 MiB [] 88% 0.2s\u001b[0K\u001b[1G173.7 MiB [] 89% 0.2s\u001b[0K\u001b[1G173.7 MiB [] 90% 0.2s\u001b[0K\u001b[1G173.7 MiB [] 91% 0.2s\u001b[0K\u001b[1G173.7 MiB [] 92% 0.1s\u001b[0K\u001b[1G173.7 MiB [] 94% 0.1s\u001b[0K\u001b[1G173.7 MiB [] 95% 0.1s\u001b[0K\u001b[1G173.7 MiB [] 97% 0.1s\u001b[0K\u001b[1G173.7 MiB [] 98% 0.0s\u001b[0K\u001b[1G173.7 MiB [] 99% 0.0s\u001b[0K\u001b[1G173.7 MiB [] 100% 0.0s\u001b[0K\n",
            "Chromium 140.0.7339.16 (playwright build v1187) downloaded to /root/.cache/ms-playwright/chromium-1187\n",
            "Downloading Chromium Headless Shell 140.0.7339.16 (playwright build v1187)\u001b[2m from https://cdn.playwright.dev/dbazure/download/playwright/builds/chromium/1187/chromium-headless-shell-linux.zip\u001b[22m\n",
            "\u001b[1G104.3 MiB [] 0% 0.0s\u001b[0K\u001b[1G104.3 MiB [] 0% 18.9s\u001b[0K\u001b[1G104.3 MiB [] 0% 18.4s\u001b[0K\u001b[1G104.3 MiB [] 0% 12.5s\u001b[0K\u001b[1G104.3 MiB [] 0% 9.0s\u001b[0K\u001b[1G104.3 MiB [] 1% 5.9s\u001b[0K\u001b[1G104.3 MiB [] 2% 3.8s\u001b[0K\u001b[1G104.3 MiB [] 3% 2.9s\u001b[0K\u001b[1G104.3 MiB [] 5% 2.3s\u001b[0K\u001b[1G104.3 MiB [] 6% 2.1s\u001b[0K\u001b[1G104.3 MiB [] 7% 1.9s\u001b[0K\u001b[1G104.3 MiB [] 8% 1.9s\u001b[0K\u001b[1G104.3 MiB [] 9% 1.9s\u001b[0K\u001b[1G104.3 MiB [] 10% 1.8s\u001b[0K\u001b[1G104.3 MiB [] 11% 1.8s\u001b[0K\u001b[1G104.3 MiB [] 12% 1.6s\u001b[0K\u001b[1G104.3 MiB [] 13% 1.6s\u001b[0K\u001b[1G104.3 MiB [] 14% 1.6s\u001b[0K\u001b[1G104.3 MiB [] 15% 1.6s\u001b[0K\u001b[1G104.3 MiB [] 17% 1.5s\u001b[0K\u001b[1G104.3 MiB [] 18% 1.5s\u001b[0K\u001b[1G104.3 MiB [] 19% 1.4s\u001b[0K\u001b[1G104.3 MiB [] 21% 1.3s\u001b[0K\u001b[1G104.3 MiB [] 23% 1.2s\u001b[0K\u001b[1G104.3 MiB [] 25% 1.2s\u001b[0K\u001b[1G104.3 MiB [] 27% 1.1s\u001b[0K\u001b[1G104.3 MiB [] 28% 1.1s\u001b[0K\u001b[1G104.3 MiB [] 30% 1.0s\u001b[0K\u001b[1G104.3 MiB [] 32% 1.0s\u001b[0K\u001b[1G104.3 MiB [] 33% 0.9s\u001b[0K\u001b[1G104.3 MiB [] 36% 0.9s\u001b[0K\u001b[1G104.3 MiB [] 37% 0.9s\u001b[0K\u001b[1G104.3 MiB [] 38% 0.9s\u001b[0K\u001b[1G104.3 MiB [] 40% 0.8s\u001b[0K\u001b[1G104.3 MiB [] 41% 0.8s\u001b[0K\u001b[1G104.3 MiB [] 43% 0.8s\u001b[0K\u001b[1G104.3 MiB [] 44% 0.8s\u001b[0K\u001b[1G104.3 MiB [] 46% 0.7s\u001b[0K\u001b[1G104.3 MiB [] 47% 0.7s\u001b[0K\u001b[1G104.3 MiB [] 49% 0.7s\u001b[0K\u001b[1G104.3 MiB [] 50% 0.7s\u001b[0K\u001b[1G104.3 MiB [] 52% 0.6s\u001b[0K\u001b[1G104.3 MiB [] 54% 0.6s\u001b[0K\u001b[1G104.3 MiB [] 56% 0.6s\u001b[0K\u001b[1G104.3 MiB [] 58% 0.5s\u001b[0K\u001b[1G104.3 MiB [] 60% 0.5s\u001b[0K\u001b[1G104.3 MiB [] 61% 0.5s\u001b[0K\u001b[1G104.3 MiB [] 63% 0.5s\u001b[0K\u001b[1G104.3 MiB [] 65% 0.4s\u001b[0K\u001b[1G104.3 MiB [] 67% 0.4s\u001b[0K\u001b[1G104.3 MiB [] 69% 0.4s\u001b[0K\u001b[1G104.3 MiB [] 71% 0.3s\u001b[0K\u001b[1G104.3 MiB [] 73% 0.3s\u001b[0K\u001b[1G104.3 MiB [] 75% 0.3s\u001b[0K\u001b[1G104.3 MiB [] 77% 0.3s\u001b[0K\u001b[1G104.3 MiB [] 79% 0.2s\u001b[0K\u001b[1G104.3 MiB [] 81% 0.2s\u001b[0K\u001b[1G104.3 MiB [] 82% 0.2s\u001b[0K\u001b[1G104.3 MiB [] 84% 0.2s\u001b[0K\u001b[1G104.3 MiB [] 85% 0.2s\u001b[0K\u001b[1G104.3 MiB [] 87% 0.1s\u001b[0K\u001b[1G104.3 MiB [] 89% 0.1s\u001b[0K\u001b[1G104.3 MiB [] 91% 0.1s\u001b[0K\u001b[1G104.3 MiB [] 92% 0.1s\u001b[0K\u001b[1G104.3 MiB [] 94% 0.1s\u001b[0K\u001b[1G104.3 MiB [] 95% 0.1s\u001b[0K\u001b[1G104.3 MiB [] 97% 0.0s\u001b[0K\u001b[1G104.3 MiB [] 100% 0.0s\u001b[0K\n",
            "Chromium Headless Shell 140.0.7339.16 (playwright build v1187) downloaded to /root/.cache/ms-playwright/chromium_headless_shell-1187\n",
            "Downloading Firefox 141.0 (playwright build v1490)\u001b[2m from https://cdn.playwright.dev/dbazure/download/playwright/builds/firefox/1490/firefox-ubuntu-22.04.zip\u001b[22m\n",
            "\u001b[1G96 MiB [] 0% 0.0s\u001b[0K\u001b[1G96 MiB [] 0% 15.7s\u001b[0K\u001b[1G96 MiB [] 0% 14.8s\u001b[0K\u001b[1G96 MiB [] 0% 10.3s\u001b[0K\u001b[1G96 MiB [] 0% 7.4s\u001b[0K\u001b[1G96 MiB [] 1% 6.0s\u001b[0K\u001b[1G96 MiB [] 2% 4.6s\u001b[0K\u001b[1G96 MiB [] 3% 3.5s\u001b[0K\u001b[1G96 MiB [] 3% 3.2s\u001b[0K\u001b[1G96 MiB [] 5% 2.8s\u001b[0K\u001b[1G96 MiB [] 6% 2.5s\u001b[0K\u001b[1G96 MiB [] 7% 2.3s\u001b[0K\u001b[1G96 MiB [] 8% 2.2s\u001b[0K\u001b[1G96 MiB [] 9% 2.2s\u001b[0K\u001b[1G96 MiB [] 10% 2.2s\u001b[0K\u001b[1G96 MiB [] 11% 2.2s\u001b[0K\u001b[1G96 MiB [] 12% 2.2s\u001b[0K\u001b[1G96 MiB [] 13% 2.1s\u001b[0K\u001b[1G96 MiB [] 15% 2.0s\u001b[0K\u001b[1G96 MiB [] 16% 1.9s\u001b[0K\u001b[1G96 MiB [] 17% 1.9s\u001b[0K\u001b[1G96 MiB [] 18% 1.8s\u001b[0K\u001b[1G96 MiB [] 19% 1.7s\u001b[0K\u001b[1G96 MiB [] 20% 1.7s\u001b[0K\u001b[1G96 MiB [] 21% 1.7s\u001b[0K\u001b[1G96 MiB [] 22% 1.6s\u001b[0K\u001b[1G96 MiB [] 24% 1.5s\u001b[0K\u001b[1G96 MiB [] 25% 1.4s\u001b[0K\u001b[1G96 MiB [] 27% 1.4s\u001b[0K\u001b[1G96 MiB [] 29% 1.3s\u001b[0K\u001b[1G96 MiB [] 31% 1.2s\u001b[0K\u001b[1G96 MiB [] 32% 1.2s\u001b[0K\u001b[1G96 MiB [] 34% 1.1s\u001b[0K\u001b[1G96 MiB [] 35% 1.1s\u001b[0K\u001b[1G96 MiB [] 37% 1.0s\u001b[0K\u001b[1G96 MiB [] 38% 1.0s\u001b[0K\u001b[1G96 MiB [] 39% 1.0s\u001b[0K\u001b[1G96 MiB [] 40% 1.0s\u001b[0K\u001b[1G96 MiB [] 42% 1.0s\u001b[0K\u001b[1G96 MiB [] 44% 0.9s\u001b[0K\u001b[1G96 MiB [] 46% 0.8s\u001b[0K\u001b[1G96 MiB [] 48% 0.8s\u001b[0K\u001b[1G96 MiB [] 50% 0.8s\u001b[0K\u001b[1G96 MiB [] 51% 0.7s\u001b[0K\u001b[1G96 MiB [] 53% 0.7s\u001b[0K\u001b[1G96 MiB [] 54% 0.7s\u001b[0K\u001b[1G96 MiB [] 56% 0.6s\u001b[0K\u001b[1G96 MiB [] 58% 0.6s\u001b[0K\u001b[1G96 MiB [] 60% 0.6s\u001b[0K\u001b[1G96 MiB [] 62% 0.5s\u001b[0K\u001b[1G96 MiB [] 63% 0.5s\u001b[0K\u001b[1G96 MiB [] 64% 0.5s\u001b[0K\u001b[1G96 MiB [] 66% 0.5s\u001b[0K\u001b[1G96 MiB [] 68% 0.4s\u001b[0K\u001b[1G96 MiB [] 70% 0.4s\u001b[0K\u001b[1G96 MiB [] 71% 0.4s\u001b[0K\u001b[1G96 MiB [] 72% 0.4s\u001b[0K\u001b[1G96 MiB [] 74% 0.3s\u001b[0K\u001b[1G96 MiB [] 75% 0.3s\u001b[0K\u001b[1G96 MiB [] 77% 0.3s\u001b[0K\u001b[1G96 MiB [] 78% 0.3s\u001b[0K\u001b[1G96 MiB [] 80% 0.3s\u001b[0K\u001b[1G96 MiB [] 82% 0.2s\u001b[0K\u001b[1G96 MiB [] 84% 0.2s\u001b[0K\u001b[1G96 MiB [] 85% 0.2s\u001b[0K\u001b[1G96 MiB [] 87% 0.2s\u001b[0K\u001b[1G96 MiB [] 88% 0.1s\u001b[0K\u001b[1G96 MiB [] 90% 0.1s\u001b[0K\u001b[1G96 MiB [] 91% 0.1s\u001b[0K\u001b[1G96 MiB [] 92% 0.1s\u001b[0K\u001b[1G96 MiB [] 95% 0.1s\u001b[0K\u001b[1G96 MiB [] 96% 0.0s\u001b[0K\u001b[1G96 MiB [] 99% 0.0s\u001b[0K\u001b[1G96 MiB [] 100% 0.0s\u001b[0K\n",
            "Firefox 141.0 (playwright build v1490) downloaded to /root/.cache/ms-playwright/firefox-1490\n",
            "Downloading Webkit 26.0 (playwright build v2203)\u001b[2m from https://cdn.playwright.dev/dbazure/download/playwright/builds/webkit/2203/webkit-ubuntu-22.04.zip\u001b[22m\n",
            "\u001b[1G94.6 MiB [] 0% 0.0s\u001b[0K\u001b[1G94.6 MiB [] 0% 19.3s\u001b[0K\u001b[1G94.6 MiB [] 0% 15.7s\u001b[0K\u001b[1G94.6 MiB [] 0% 11.2s\u001b[0K\u001b[1G94.6 MiB [] 0% 7.9s\u001b[0K\u001b[1G94.6 MiB [] 1% 5.1s\u001b[0K\u001b[1G94.6 MiB [] 2% 3.6s\u001b[0K\u001b[1G94.6 MiB [] 3% 2.9s\u001b[0K\u001b[1G94.6 MiB [] 5% 2.3s\u001b[0K\u001b[1G94.6 MiB [] 7% 1.9s\u001b[0K\u001b[1G94.6 MiB [] 8% 1.7s\u001b[0K\u001b[1G94.6 MiB [] 9% 1.7s\u001b[0K\u001b[1G94.6 MiB [] 10% 1.7s\u001b[0K\u001b[1G94.6 MiB [] 11% 1.6s\u001b[0K\u001b[1G94.6 MiB [] 12% 1.6s\u001b[0K\u001b[1G94.6 MiB [] 14% 1.5s\u001b[0K\u001b[1G94.6 MiB [] 15% 1.5s\u001b[0K\u001b[1G94.6 MiB [] 16% 1.4s\u001b[0K\u001b[1G94.6 MiB [] 17% 1.4s\u001b[0K\u001b[1G94.6 MiB [] 19% 1.3s\u001b[0K\u001b[1G94.6 MiB [] 20% 1.3s\u001b[0K\u001b[1G94.6 MiB [] 21% 1.2s\u001b[0K\u001b[1G94.6 MiB [] 24% 1.1s\u001b[0K\u001b[1G94.6 MiB [] 25% 1.1s\u001b[0K\u001b[1G94.6 MiB [] 28% 1.0s\u001b[0K\u001b[1G94.6 MiB [] 30% 0.9s\u001b[0K\u001b[1G94.6 MiB [] 31% 0.9s\u001b[0K\u001b[1G94.6 MiB [] 32% 0.9s\u001b[0K\u001b[1G94.6 MiB [] 33% 0.9s\u001b[0K\u001b[1G94.6 MiB [] 34% 0.9s\u001b[0K\u001b[1G94.6 MiB [] 36% 0.8s\u001b[0K\u001b[1G94.6 MiB [] 39% 0.8s\u001b[0K\u001b[1G94.6 MiB [] 40% 0.8s\u001b[0K\u001b[1G94.6 MiB [] 41% 0.8s\u001b[0K\u001b[1G94.6 MiB [] 43% 0.7s\u001b[0K\u001b[1G94.6 MiB [] 45% 0.7s\u001b[0K\u001b[1G94.6 MiB [] 47% 0.7s\u001b[0K\u001b[1G94.6 MiB [] 49% 0.6s\u001b[0K\u001b[1G94.6 MiB [] 51% 0.6s\u001b[0K\u001b[1G94.6 MiB [] 53% 0.5s\u001b[0K\u001b[1G94.6 MiB [] 55% 0.5s\u001b[0K\u001b[1G94.6 MiB [] 57% 0.5s\u001b[0K\u001b[1G94.6 MiB [] 59% 0.5s\u001b[0K\u001b[1G94.6 MiB [] 62% 0.4s\u001b[0K\u001b[1G94.6 MiB [] 64% 0.4s\u001b[0K\u001b[1G94.6 MiB [] 67% 0.4s\u001b[0K\u001b[1G94.6 MiB [] 69% 0.3s\u001b[0K\u001b[1G94.6 MiB [] 71% 0.3s\u001b[0K\u001b[1G94.6 MiB [] 74% 0.3s\u001b[0K\u001b[1G94.6 MiB [] 75% 0.3s\u001b[0K\u001b[1G94.6 MiB [] 78% 0.2s\u001b[0K\u001b[1G94.6 MiB [] 80% 0.2s\u001b[0K\u001b[1G94.6 MiB [] 82% 0.2s\u001b[0K\u001b[1G94.6 MiB [] 84% 0.2s\u001b[0K\u001b[1G94.6 MiB [] 87% 0.1s\u001b[0K\u001b[1G94.6 MiB [] 89% 0.1s\u001b[0K\u001b[1G94.6 MiB [] 91% 0.1s\u001b[0K\u001b[1G94.6 MiB [] 93% 0.1s\u001b[0K\u001b[1G94.6 MiB [] 95% 0.0s\u001b[0K\u001b[1G94.6 MiB [] 97% 0.0s\u001b[0K\u001b[1G94.6 MiB [] 100% 0.0s\u001b[0K\n",
            "Webkit 26.0 (playwright build v2203) downloaded to /root/.cache/ms-playwright/webkit-2203\n",
            "Downloading FFMPEG playwright build v1011\u001b[2m from https://cdn.playwright.dev/dbazure/download/playwright/builds/ffmpeg/1011/ffmpeg-linux.zip\u001b[22m\n",
            "\u001b[1G2.3 MiB [] 0% 0.0s\u001b[0K\u001b[1G2.3 MiB [] 4% 0.4s\u001b[0K\u001b[1G2.3 MiB [] 8% 0.3s\u001b[0K\u001b[1G2.3 MiB [] 18% 0.2s\u001b[0K\u001b[1G2.3 MiB [] 33% 0.1s\u001b[0K\u001b[1G2.3 MiB [] 62% 0.0s\u001b[0K\u001b[1G2.3 MiB [] 100% 0.0s\u001b[0K\n",
            "FFMPEG playwright build v1011 downloaded to /root/.cache/ms-playwright/ffmpeg-1011\n",
            "Playwright Host validation warning: \n",
            "╔══════════════════════════════════════════════════════╗\n",
            "║ Host system is missing dependencies to run browsers. ║\n",
            "║ Missing libraries:                                   ║\n",
            "║     libwoff2dec.so.1.0.2                             ║\n",
            "║     libgstgl-1.0.so.0                                ║\n",
            "║     libgstcodecparsers-1.0.so.0                      ║\n",
            "║     libavif.so.13                                    ║\n",
            "║     libharfbuzz-icu.so.0                             ║\n",
            "║     libenchant-2.so.2                                ║\n",
            "║     libsecret-1.so.0                                 ║\n",
            "║     libhyphen.so.0                                   ║\n",
            "║     libmanette-0.2.so.0                              ║\n",
            "╚══════════════════════════════════════════════════════╝\n",
            "    at validateDependenciesLinux (/usr/local/lib/python3.12/dist-packages/playwright/driver/package/lib/server/registry/dependencies.js:269:9)\n",
            "\u001b[90m    at process.processTicksAndRejections (node:internal/process/task_queues:105:5)\u001b[39m\n",
            "    at async Registry._validateHostRequirements (/usr/local/lib/python3.12/dist-packages/playwright/driver/package/lib/server/registry/index.js:934:14)\n",
            "    at async Registry._validateHostRequirementsForExecutableIfNeeded (/usr/local/lib/python3.12/dist-packages/playwright/driver/package/lib/server/registry/index.js:1056:7)\n",
            "    at async Registry.validateHostRequirementsForExecutablesIfNeeded (/usr/local/lib/python3.12/dist-packages/playwright/driver/package/lib/server/registry/index.js:1045:7)\n",
            "    at async i.<anonymous> (/usr/local/lib/python3.12/dist-packages/playwright/driver/package/lib/cli/program.js:217:7)\n"
          ]
        }
      ]
    },
    {
      "cell_type": "code",
      "source": [
        "import asyncio\n",
        "from bs4 import BeautifulSoup\n",
        "from playwright.async_api import async_playwright\n",
        "from llama_index.core.schema import Document\n",
        "\n",
        "async def get_rendered_text_from_url_async(url: str) -> str:\n",
        "    \"\"\"Utilise Playwright async pour extraire le texte visible d'une page web.\"\"\"\n",
        "    async with async_playwright() as p:\n",
        "        browser = await p.chromium.launch(headless=True)\n",
        "        page = await browser.new_page()\n",
        "        await page.goto(url, timeout=60000)\n",
        "        await page.wait_for_timeout(5000)  # Laisse le JS s'exécuter\n",
        "\n",
        "        html = await page.content()\n",
        "        await browser.close()\n",
        "\n",
        "        # Extraire texte lisible\n",
        "        soup = BeautifulSoup(html, \"html.parser\")\n",
        "        text = soup.get_text(separator=\"\\n\", strip=True)\n",
        "        return text\n",
        "\n",
        "async def load_all_urls_to_documents(urls):\n",
        "    documents = []\n",
        "    for url in urls:\n",
        "        print(f\"Chargement de : {url}\")\n",
        "        try:\n",
        "            text = await get_rendered_text_from_url_async(url)\n",
        "            doc = Document(text=text, metadata={\"source\": url})\n",
        "            documents.append(doc)\n",
        "        except Exception as e:\n",
        "            print(f\"Erreur lors du chargement de {url}: {e}\")\n",
        "    return documents\n",
        "\n",
        "# Liste des URLs\n",
        "urls_web = [\n",
        "    \"https://www.service-public.fr/particuliers/vosdroits/F16162\",\n",
        "    \"https://france-visas.gouv.fr/fr/web/france-visas/etudiants\",\n",
        "    \"https://www.skyscanner.fr/transport/vols/ma/fr/?adultsv2=1\"\n",
        "]\n",
        "\n",
        "# Lancer la tâche Playwright async\n",
        "web_docs = asyncio.run(load_all_urls_to_documents(urls_web))\n",
        "# Afficher un extrait des textes récupérés\n",
        "for i, doc in enumerate(web_docs):\n",
        "    print(f\"\\n--- Extrait de la page {i+1} ({doc.metadata['source']}) ---\\n\")\n",
        "    print(doc.text[:1500])  # Affiche les 1500 premiers caractères\n",
        "\n",
        "# Ajouter aux documents\n",
        "documents.extend(web_docs)\n",
        "print(f\"{len(web_docs)} page(s) web rendue(s) ajoutée(s).\")\n",
        "print(f\"Total documents pour le RAG : {len(documents)}\")\n"
      ],
      "metadata": {
        "colab": {
          "base_uri": "https://localhost:8080/"
        },
        "id": "zUDuSKXa-lTp",
        "outputId": "74c7be53-784f-4fbd-dd36-b18fe2589932"
      },
      "execution_count": null,
      "outputs": [
        {
          "output_type": "stream",
          "name": "stdout",
          "text": [
            "Chargement de : https://www.service-public.fr/particuliers/vosdroits/F16162\n",
            "Chargement de : https://france-visas.gouv.fr/fr/web/france-visas/etudiants\n",
            "Chargement de : https://www.skyscanner.fr/transport/vols/ma/fr/?adultsv2=1\n",
            "\n",
            "--- Extrait de la page 1 (https://www.service-public.fr/particuliers/vosdroits/F16162) ---\n",
            "\n",
            "Visa de long séjour (séjour de plus de 3 mois à 1 an) | Service Public\n",
            "Ce site utilise des cookies permettant de visualiser des contenus et d'améliorer le fonctionnement grâce aux statistiques de navigation. Si vous cliquez sur « Accepter », la Dila (éditeur du site Service-Public.fr) et ses partenaires déposeront ces cookies sur votre terminal lors de votre navigation. Si vous cliquez sur « Refuser », ces cookies ne seront pas déposés. Votre choix est conservé pendant 6 mois et vous pouvez être informé et modifier vos préférences à tout moment sur la page « Gérer les cookies »\n",
            "Accepter\n",
            "Refuser\n",
            "Personnaliser\n",
            "Javascript est desactivé dans votre navigateur.\n",
            "Contenu\n",
            "Menu\n",
            "Recherche\n",
            "Pied de page\n",
            "République\n",
            "Française\n",
            "Ouvrir la recherche\n",
            "Menu\n",
            "Se connecter\n",
            "Accéder au site pour les entreprises\n",
            "Fermer\n",
            "Recherche\n",
            "Des suggestions vous seront proposées lors de votre saisie situées après le champ\n",
            "Rechercher sur le site\n",
            "Fermer\n",
            "Se connecter\n",
            "Accéder au site pour les entreprises\n",
            "Accueil\n",
            "Actualité\n",
            "de vos droits et démarches\n",
            "Fiches pratiques\n",
            "par événement de vie\n",
            "Je déménage\n",
            "Je cherche un emploi\n",
            "J’attends un enfant\n",
            "Je veux obtenir un crédit immobilier\n",
            "J'achète un logement\n",
            "Je prépare ma retraite\n",
            "Un proche est décédé\n",
            "Voir tous les événements de vie\n",
            "Fiches pratiques\n",
            "par thème\n",
            "Papiers - Citoyenneté - Élections\n",
            "Famille - Scolarité\n",
            "Social - Santé\n",
            "Travail - Formation\n",
            "Logement\n",
            "Transports - Mobilité\n",
            "Argent - Impôts - Consommation\n",
            "Voir tous les thèmes\n",
            "Démarches\n",
            "et outils\n",
            "Aides financières\n",
            "Démarches et outil\n",
            "\n",
            "--- Extrait de la page 2 (https://france-visas.gouv.fr/fr/web/france-visas/etudiants) ---\n",
            "\n",
            "Just a moment...\n",
            "Erreur 503\n",
            "One moment please\n",
            "Pourquoi cette erreur ?\n",
            "Le serveur que vous essayez d'atteindre semble injoignable.\n",
            "Checking if the site connection is secure.\n",
            "IAUAMC / 34.150.169.182 / 98f8c397c89765c4 / US /\n",
            "Waiting for france-visas.gouv.fr to respond...\n",
            "Enable JavaScript and cookies to continue\n",
            "Comment corriger ?\n",
            "Veuillez réessayer dans quelques minutes.\n",
            "Si le problème persiste, merci de prendre contact avec votre\n",
            "support technique.\n",
            "\n",
            "--- Extrait de la page 3 (https://www.skyscanner.fr/transport/vols/ma/fr/?adultsv2=1) ---\n",
            "\n",
            "Skyscanner\n",
            "You need to enable JavaScript to run this app.\n",
            "Are you a person or a robot?\n",
            "Please don’t take this personally - some scripts and bots are remarkably lifelike these days!\n",
            "Still having problems accessing the page? Try checking you have JavaScript and cookies turned on and that your browser isn’t blocking them from loading.\n",
            "1f5a8b84-aaa9-11f0-9b3f-4fbef3ee3698\n",
            "3 page(s) web rendue(s) ajoutée(s).\n",
            "Total documents pour le RAG : 17\n"
          ]
        }
      ]
    },
    {
      "cell_type": "markdown",
      "source": [
        "2. **RAG**"
      ],
      "metadata": {
        "id": "4kR24_vJEl4J"
      }
    },
    {
      "cell_type": "code",
      "source": [
        "from llama_index.core import VectorStoreIndex, Document\n",
        "from llama_index.llms.mistralai import MistralAI\n",
        "from llama_index.embeddings.huggingface import HuggingFaceEmbedding\n",
        "from llama_index.core.memory import ChatMemoryBuffer\n",
        "from llama_index.llms.openai import OpenAI\n"
      ],
      "metadata": {
        "id": "aJ-wfIJZEYk4"
      },
      "execution_count": null,
      "outputs": []
    },
    {
      "cell_type": "code",
      "source": [],
      "metadata": {
        "id": "g-2WhBVNjZDG"
      },
      "execution_count": null,
      "outputs": []
    },
    {
      "cell_type": "code",
      "source": [
        "# Définir le modèle d'embedding\n",
        "embed_model = HuggingFaceEmbedding(model_name=\"all-MiniLM-L6-v2\")\n",
        "\n",
        "# Définir la mémoire\n",
        "memory = ChatMemoryBuffer.from_defaults(token_limit=1000)\n",
        "\n",
        "# Définir le LLM\n",
        "llm = MistralAI(\n",
        "    api_key=mistral_key_api,\n",
        "    temperature=0.7,\n",
        "    additional_kwargs={\"stream\": False}\n",
        "    )\n",
        "\n",
        "# Construire l'index vectoriel\n",
        "index = VectorStoreIndex.from_documents(documents, embed_model=embed_model)\n",
        "\n",
        "# Créer le moteur de requêtes avec le LLM et la mémoire\n",
        "query_engine = index.as_query_engine(llm=llm, memory=memory)\n",
        "\n"
      ],
      "metadata": {
        "colab": {
          "base_uri": "https://localhost:8080/"
        },
        "id": "f2i9wfUWFBCV",
        "outputId": "6fabae8b-e20a-4cb1-ba8a-f9df75ef7645"
      },
      "execution_count": null,
      "outputs": [
        {
          "output_type": "stream",
          "name": "stderr",
          "text": [
            "INFO:sentence_transformers.SentenceTransformer:Load pretrained SentenceTransformer: all-MiniLM-L6-v2\n"
          ]
        }
      ]
    },
    {
      "cell_type": "code",
      "source": [
        "# Test de requêtes\n",
        "print(query_engine.query(\"Quels documents sont nécessaires pour un visa de court séjour ?\"))\n",
        "print(query_engine.query(\"Quelles sont les conditions pour déposer une demande ?\"))"
      ],
      "metadata": {
        "colab": {
          "base_uri": "https://localhost:8080/"
        },
        "collapsed": true,
        "id": "jAfeLuctJzQS",
        "outputId": "e3b33231-5f74-479b-ca74-5bfeaa5f38b3"
      },
      "execution_count": null,
      "outputs": [
        {
          "output_type": "stream",
          "name": "stderr",
          "text": [
            "INFO:httpx:HTTP Request: POST https://api.mistral.ai/v1/chat/completions \"HTTP/1.1 200 OK\"\n"
          ]
        },
        {
          "output_type": "stream",
          "name": "stdout",
          "text": [
            "Pour un visa de court séjour, les documents nécessaires varient selon votre situation professionnelle ou personnelle. Voici les pièces justificatives requises selon différents profils :\n",
            "\n",
            "### **1. Pour les personnes exerçant une profession ou une activité spécifique :**\n",
            "- **Membres d’institutions officielles** (Cour royale, gouvernement, Parlement, etc.) : une **note verbale**, une **attestation de fonction** ou un autre document officiel.\n",
            "- **Hauts fonctionnaires de l’État marocain** : une **attestation de fonction** délivrée par l’organisme compétent.\n",
            "- **Recteurs d’université ou doyens** : une **attestation de fonction** délivrée par l’université concernée.\n",
            "- **Personnel diplomatique ou consulaire** (Union européenne, ambassades, consulats) : une **attestation de fonction** délivrée par l’employeur.\n",
            "- **Conjoint ou enfant mineur à charge** des personnes citées ci-dessus : une **preuve du lien de parenté**.\n",
            "- **Bénéficiaires d’une bourse** (Erasmus+, Horizon 2020, etc.) : une **lettre d’acceptation** de l’établissement d’accueil dans le pays de destination.\n",
            "\n",
            "### **2. Pour les personnes sans emploi :**\n",
            "- Un **engagement de prise en charge** des frais, **signé et légalisé**, accompagné :\n",
            "  - d’une **preuve du statut socioprofessionnel** de la personne qui assure cette prise en charge (selon les catégories mentionnées ci-dessus),\n",
            "  - et de ses **relevés bancaires des trois derniers mois**.\n",
            "- **Ou** une **preuve de propriété de biens** (société, immobilier, terrains agricoles, etc.).\n",
            "\n",
            "### **3. Pour les mineurs :**\n",
            "- Si le mineur voyage avec **un seul parent** : un **consentement écrit et certifié** de l’autre parent (sauf si un seul parent a l’autorité parentale, ce qui doit être prouvé).\n",
            "- Si le mineur voyage **seul** : un **consentement écrit et certifié des deux parents** (ou tuteurs légaux).\n",
            "- Une **copie du passeport ou de la carte d’identité** de chaque parent.\n",
            "\n",
            "### **4. Autres preuves possibles (selon le cas) :**\n",
            "- **Preuve de propriété de biens** (immobiliers, terrains, société, etc.) ou d’autres\n"
          ]
        },
        {
          "output_type": "stream",
          "name": "stderr",
          "text": [
            "INFO:httpx:HTTP Request: POST https://api.mistral.ai/v1/chat/completions \"HTTP/1.1 200 OK\"\n"
          ]
        },
        {
          "output_type": "stream",
          "name": "stdout",
          "text": [
            "Pour déposer une demande de visa \"Vacances-travail\" (PVT), voici les conditions principales à respecter selon votre pays d'origine :\n",
            "\n",
            "- **Âge** :\n",
            "  - **18 à 35 ans** : si vous êtes ressortissant d'**Australie** ou du **Canada**.\n",
            "  - **18 à 30 ans** : si vous venez du **Brésil**, du **Chili**, de **Chine (Hong-Kong)**, de la **Colombie**, de la **Corée du Sud**, de l'**Équateur**, du **Japon**, du **Mexique**, de la **Nouvelle-Zélande** ou du **Pérou**.\n",
            "\n",
            "- **Durée du séjour** :\n",
            "  - La plupart des visas ont une durée maximale de **12 mois**, sans possibilité de prolongation ni de changement de statut (sauf exceptions pour le Canada et sous conditions spécifiques).\n",
            "  - Pour le **Canada**, la durée peut aller jusqu’à **24 mois**, voire **36 mois** dans certains cas (études universitaires dans le cadre d’un accord interuniversitaire ou stage pratique pour étudiants/jeunes en formation).\n",
            "\n",
            "- **Restrictions** :\n",
            "  - Ce visa ne permet pas de demander une carte de séjour pour un autre motif, sauf si vous remplissez les conditions pour une carte pluriannuelle \"talent\" (à demander **3 mois avant la fin** du visa \"Vacances-travail\").\n",
            "  - Aucune prolongation n’est possible au-delà de la durée autorisée.\n"
          ]
        }
      ]
    },
    {
      "cell_type": "code",
      "source": [
        "print(query_engine.query(\"combien coûte un billet d'avion Maroc -  France ?\"))"
      ],
      "metadata": {
        "colab": {
          "base_uri": "https://localhost:8080/"
        },
        "id": "oD0CCs7PrrkE",
        "outputId": "ec1eea72-bbcd-488f-e11d-316c50857e2b"
      },
      "execution_count": null,
      "outputs": [
        {
          "output_type": "stream",
          "name": "stderr",
          "text": [
            "INFO:httpx:HTTP Request: POST https://api.mistral.ai/v1/chat/completions \"HTTP/1.1 200 OK\"\n"
          ]
        },
        {
          "output_type": "stream",
          "name": "stdout",
          "text": [
            "Je ne peux pas fournir d'informations sur le coût d'un billet d'avion entre le Maroc et la France.\n"
          ]
        }
      ]
    },
    {
      "cell_type": "code",
      "source": [
        "# demander mistral à dire bonjour\n",
        "print(query_engine.query(\"Bonjour\"))"
      ],
      "metadata": {
        "colab": {
          "base_uri": "https://localhost:8080/"
        },
        "id": "dOM7AffoIQeU",
        "outputId": "cadf6d72-9ee6-491d-9790-0caaf63867ce"
      },
      "execution_count": null,
      "outputs": [
        {
          "output_type": "stream",
          "name": "stderr",
          "text": [
            "INFO:httpx:HTTP Request: POST https://api.mistral.ai/v1/chat/completions \"HTTP/1.1 200 OK\"\n"
          ]
        },
        {
          "output_type": "stream",
          "name": "stdout",
          "text": [
            "Bonjour ! Comment puis-je vous aider concernant un visa de long séjour en France ?\n"
          ]
        }
      ]
    },
    {
      "cell_type": "markdown",
      "source": [
        "# Problème de clé OpenAI pour continuer avec Agent"
      ],
      "metadata": {
        "id": "IwRJAZ56sC9T"
      }
    },
    {
      "cell_type": "markdown",
      "source": [
        "3. **Agent AI**"
      ],
      "metadata": {
        "id": "LfeaNwiXK0FL"
      }
    },
    {
      "cell_type": "code",
      "source": [
        "from llama_index.core.tools import QueryEngineTool\n",
        "from llama_index.core.tools import FunctionTool\n",
        "\n",
        "\n",
        "# Créer un outil basé sur  query_engine\n",
        "visa_query_tool = QueryEngineTool.from_defaults(\n",
        "    query_engine=query_engine,\n",
        "    name=\"Visa_Bot_IA\",\n",
        "    description=\"Outil pour répondre aux questions sur les documents et démarches de visa de court séjour.\"\n",
        ")\n",
        "\n"
      ],
      "metadata": {
        "id": "JksRlv6KK519"
      },
      "execution_count": null,
      "outputs": []
    },
    {
      "cell_type": "markdown",
      "source": [
        "4. **Tools**"
      ],
      "metadata": {
        "id": "6ghCx8beN30M"
      }
    },
    {
      "cell_type": "code",
      "source": [
        "from llama_index.core.tools import FunctionTool\n",
        "\n",
        "def check_documents(user_country: str) -> str:\n",
        "    if user_country.lower() == \"maroc\":\n",
        "        return \"Passeport, formulaire rempli, photo, justificatif de ressources, attestation de logement.\"\n",
        "    return f\"Les documents pour {user_country} ne sont pas encore disponibles.\"\n",
        "\n",
        "def find_embassy(city: str) -> str:\n",
        "    return f\"L'ambassade à {city} est située au centre-ville, rue des Consulats.\"\n",
        "\n",
        "def check_visa_delay(country: str) -> str:\n",
        "    return f\"Le délai moyen pour un visa de court séjour pour {country} est de 15 jours.\"\n",
        "\n",
        "tools = [\n",
        "    visa_query_tool,\n",
        "    FunctionTool.from_defaults(fn=check_documents, name=\"check_documents\", description=\"Documents requis\"),\n",
        "    FunctionTool.from_defaults(fn=find_embassy, name=\"find_embassy\", description=\"Trouver l'ambassade\"),\n",
        "    FunctionTool.from_defaults(fn=check_visa_delay, name=\"check_visa_delay\", description=\"Délais de visa\")\n",
        "]\n"
      ],
      "metadata": {
        "id": "YrTJYYlLNkU1"
      },
      "execution_count": null,
      "outputs": []
    },
    {
      "cell_type": "markdown",
      "source": [
        "5. **Agent avec une personnalité**"
      ],
      "metadata": {
        "id": "CGMSTi-9OETt"
      }
    },
    {
      "cell_type": "code",
      "source": [
        "from llama_index.core.agent import ReActAgent\n",
        "\n",
        "# Créer un agent avec une personnalité\n",
        "agent = ReActAgent(\n",
        "    tools=tools,\n",
        "    llm=llm,\n",
        "    system_prompt=\"Tu es un assistant expert en visas de court séjour. Réponds toujours clairement.\",\n",
        "    verbose=True\n",
        ")\n"
      ],
      "metadata": {
        "id": "b0gVlTEgN_kn"
      },
      "execution_count": null,
      "outputs": []
    },
    {
      "cell_type": "markdown",
      "source": [
        "# Il faut vraiment une clé openai pour pouvoir utiliser tools avec agent"
      ],
      "metadata": {
        "id": "4ytvRb_CoP22"
      }
    },
    {
      "cell_type": "code",
      "source": [
        "print(query_engine.query(\"Bonjour\"))"
      ],
      "metadata": {
        "colab": {
          "base_uri": "https://localhost:8080/"
        },
        "id": "vIONk7quoKnO",
        "outputId": "ad1cf024-0ca0-4e37-ee6b-8cc7b0952045"
      },
      "execution_count": null,
      "outputs": [
        {
          "output_type": "stream",
          "name": "stderr",
          "text": [
            "INFO:httpx:HTTP Request: POST https://api.mistral.ai/v1/chat/completions \"HTTP/1.1 200 OK\"\n"
          ]
        },
        {
          "output_type": "stream",
          "name": "stdout",
          "text": [
            "Bonjour ! Comment puis-je vous aider concernant un visa de long séjour en France ?\n"
          ]
        }
      ]
    },
    {
      "cell_type": "code",
      "source": [
        "print(query_engine.query(\"Comment proceder pour un visa de long séjour ?\"))"
      ],
      "metadata": {
        "colab": {
          "base_uri": "https://localhost:8080/"
        },
        "id": "2OC_M_FmoPB0",
        "outputId": "d626a750-55e5-4541-ed9f-4ff3564091e7"
      },
      "execution_count": null,
      "outputs": [
        {
          "output_type": "stream",
          "name": "stderr",
          "text": [
            "INFO:httpx:HTTP Request: POST https://api.mistral.ai/v1/chat/completions \"HTTP/1.1 200 OK\"\n"
          ]
        },
        {
          "output_type": "stream",
          "name": "stdout",
          "text": [
            "Pour obtenir un **visa de long séjour**, voici les étapes clés à suivre :\n",
            "\n",
            "1. **Déterminer le type de visa** en fonction de votre situation (études, travail, raisons familiales, etc.). Le **Visa de Long Séjour valant Titre de Séjour (VLS-TS)** est le plus courant, valable de **4 à 12 mois**, et dispense d’une demande de carte de séjour en préfecture à l’arrivée en France.\n",
            "\n",
            "2. **Faire la demande** auprès des **autorités consulaires françaises** (ambassade ou consulat) dans votre pays de résidence. Les motifs les plus fréquents sont les études, le travail ou le regroupement familial.\n",
            "\n",
            "3. **Respecter les conditions** :\n",
            "   - Ne pas dépasser **90 jours de séjour dans l’espace Schengen** pendant la validité du visa.\n",
            "   - Si vous êtes majeur, un visa de long séjour est obligatoire, même si votre nationalité vous exonère habituellement d’un visa de court séjour.\n",
            "\n",
            "4. **Vérifier les cas de refus** :\n",
            "   - Si vous avez fait l’objet d’une **obligation de quitter le territoire français** (sans preuve de départ dans les délais) dans les **5 dernières années**, sauf motif humanitaire.\n",
            "   - Si votre pays coopère insuffisamment en matière de réadmission (sauf pour les conjoints de Français).\n",
            "   - En cas d’**interdiction judiciaire ou administrative** du territoire (expulsion, interdiction de retour, etc.).\n",
            "\n",
            "Pour connaître les **pièces à fournir**, les **délais** et le **coût**, contactez directement le consulat ou l’ambassade de France compétente.\n"
          ]
        }
      ]
    },
    {
      "cell_type": "code",
      "source": [
        "print(query_engine.query(\"j'ai visa, comment proceder le voyage ?\"))"
      ],
      "metadata": {
        "colab": {
          "base_uri": "https://localhost:8080/"
        },
        "id": "ssGvWTjZonPm",
        "outputId": "5831ea35-6403-4196-d35d-2798e0167d3f"
      },
      "execution_count": null,
      "outputs": [
        {
          "output_type": "stream",
          "name": "stderr",
          "text": [
            "INFO:httpx:HTTP Request: POST https://api.mistral.ai/v1/chat/completions \"HTTP/1.1 200 OK\"\n"
          ]
        },
        {
          "output_type": "stream",
          "name": "stdout",
          "text": [
            "Pour préparer votre voyage au Maroc avec un visa de court séjour, voici les étapes et documents clés à vérifier avant votre départ :\n",
            "\n",
            "1. **Vérifiez vos documents de voyage** :\n",
            "   - Assurez-vous d’avoir votre **passeport valide** (avec le visa apposé) et une **copie numérique** en cas de perte.\n",
            "   - Confirmez votre **réservation de billet aller-retour** (avion, bus ou bateau), car elle peut être demandée à l’embarquement ou à l’arrivée.\n",
            "\n",
            "2. **Préparez vos preuves d’hébergement** :\n",
            "   - Si vous séjournez à l’hôtel, imprimez ou sauvegardez la **confirmation de réservation**.\n",
            "   - Si vous êtes hébergé par un particulier ou une entreprise, munissez-vous de la **lettre d’invitation** (ou formulaire officiel si requis) et des preuves de prise en charge financière, le cas échéant.\n",
            "   - Si vous louez un logement, apportez le **contrat de location** ou un justificatif de propriété.\n",
            "\n",
            "3. **Justifiez vos moyens financiers** :\n",
            "   - Emportez les **relevés bancaires** des trois derniers mois (si vous utilisez un compte marocain) ou une **carte de crédit internationale** avec son relevé récent.\n",
            "   - Si vos frais sont couverts par un tiers (entreprise, organisme, particulier), gardez une copie de la **lettre de prise en charge** et des preuves de ses ressources (si applicable).\n",
            "\n",
            "4. **Prévoyez les documents liés à l’objet de votre voyage** :\n",
            "   - **Voyage d’affaires** : Ayez sur vous l’**invitation de la société marocaine**, l’**ordre de mission** de votre employeur, et éventuellement des preuves de relations commerciales (contrats, échanges de courriers).\n",
            "   - **Voyage familial/privé** : Conservez l’**invitation de votre hôte** (avec ses coordonnées).\n",
            "   - **Voyage culturel/sportif/éducatif** : Apportez la **lettre d’invitation de l’organisateur** ou du ministère concerné.\n",
            "   - **Voyage officiel** : Munissez-vous de la **note verbale** ou de l’ordre de mission émis par les autorités de votre pays.\n",
            "   - **Traitement médical** : Préparez\n"
          ]
        }
      ]
    },
    {
      "cell_type": "code",
      "source": [
        "print(query_engine.query(\"Comment contacter l'ambassade Maroc zn france?\"))"
      ],
      "metadata": {
        "colab": {
          "base_uri": "https://localhost:8080/"
        },
        "id": "zwEhiJRRo5W0",
        "outputId": "11372a20-22ec-4705-942b-60e1b48aa4a7"
      },
      "execution_count": null,
      "outputs": [
        {
          "output_type": "stream",
          "name": "stderr",
          "text": [
            "INFO:httpx:HTTP Request: POST https://api.mistral.ai/v1/chat/completions \"HTTP/1.1 200 OK\"\n"
          ]
        },
        {
          "output_type": "stream",
          "name": "stdout",
          "text": [
            "Pour obtenir des informations générales sur les démarches administratives en France, vous pouvez contacter **Allô Service Public** aux horaires suivants :\n",
            "\n",
            "- **Lundi** : 08h30 – 17h30\n",
            "- **Mardi** : 08h30 – 12h15\n",
            "- **Mercredi** : 08h30 – 12h15\n",
            "- **Jeudi** : 08h30 – 17h30\n",
            "- **Vendredi** : 13h00 – 16h15\n",
            "\n",
            "Vous avez également la possibilité de **demander un rappel téléphonique** via le lien dédié sur le site officiel.\n",
            "\n",
            "*Note* : Ce service ne peut pas accéder aux dossiers personnels ni renseigner sur leur état d’avancement. Pour des questions spécifiques concernant l’ambassade du Maroc en France, il est recommandé de consulter directement leur site officiel ou leurs coordonnées.\n"
          ]
        }
      ]
    },
    {
      "cell_type": "code",
      "source": [
        "print(query_engine.query(\"combien coûte un visa de long séjour au Maroc ?\"))"
      ],
      "metadata": {
        "colab": {
          "base_uri": "https://localhost:8080/"
        },
        "id": "0acX1GzYpT7E",
        "outputId": "994dec6d-52e3-40ac-d9dc-b874792e8fe5"
      },
      "execution_count": null,
      "outputs": [
        {
          "output_type": "stream",
          "name": "stderr",
          "text": [
            "INFO:httpx:HTTP Request: POST https://api.mistral.ai/v1/chat/completions \"HTTP/1.1 200 OK\"\n"
          ]
        },
        {
          "output_type": "stream",
          "name": "stdout",
          "text": [
            "Je n'ai pas d'information sur le coût d'un visa de long séjour pour le Maroc dans les détails fournis. Les éléments disponibles concernent uniquement les visas de long séjour pour la France.\n"
          ]
        }
      ]
    },
    {
      "cell_type": "code",
      "source": [
        "print(query_engine.query(\"combien coûte un billet d'avion Maroc -  France ?\"))"
      ],
      "metadata": {
        "colab": {
          "base_uri": "https://localhost:8080/"
        },
        "id": "lCODfuaop2bV",
        "outputId": "f2db9b9c-226a-4742-ad65-1d9857f53614"
      },
      "execution_count": null,
      "outputs": [
        {
          "output_type": "stream",
          "name": "stderr",
          "text": [
            "INFO:httpx:HTTP Request: POST https://api.mistral.ai/v1/chat/completions \"HTTP/1.1 200 OK\"\n"
          ]
        },
        {
          "output_type": "stream",
          "name": "stdout",
          "text": [
            "Je n'ai pas d'information concernant le coût d'un billet d'avion entre le Maroc et la France.\n"
          ]
        }
      ]
    }
  ]
}